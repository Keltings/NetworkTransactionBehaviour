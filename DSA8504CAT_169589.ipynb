{
  "nbformat": 4,
  "nbformat_minor": 0,
  "metadata": {
    "colab": {
      "provenance": [],
      "gpuType": "T4"
    },
    "kernelspec": {
      "name": "python3",
      "display_name": "Python 3"
    },
    "language_info": {
      "name": "python"
    },
    "accelerator": "GPU"
  },
  "cells": [
    {
      "cell_type": "markdown",
      "source": [
        "# NAME: **Lindah** **Kelida**\n",
        "## ID: **169589**\n",
        "### BIG DATA IN FINANCE AND BANKING\n",
        "#### DSA 8504 CAT"
      ],
      "metadata": {
        "id": "aA6epPQVVYtd"
      }
    },
    {
      "cell_type": "markdown",
      "source": [
        "\n",
        "\n",
        "# PART 1:  HakiLend’s Big Data Modernization Project\n",
        "[LINK TO REPORT](https://drive.google.com/file/d/1tFtqWFP9_ZoaDnGP7ZOBWGUj4Z-IDHJk/view?usp=sharing)\n"
      ],
      "metadata": {
        "id": "eH9Wbj2ZUxdd"
      }
    },
    {
      "cell_type": "markdown",
      "source": [
        "# PART 2:\n",
        "## Optimizing Collaborative Filtering with Spark ALS\n",
        "### Why ALS instead of SVD?\n",
        "**SVD is slow for large, sparse user-item matrices.**\n",
        "- It performs matrix factorization on the entire dataset, which becomes computationally\n",
        "expensive.\n",
        "- It does not scale well for large datasets.\n",
        "\n",
        "**ALS (Alternating Least Squares) is optimized for large-scale collaborative filtering.**\n",
        "- It runs efficiently on distributed Spark clusters.\n",
        "- It converges faster than SVD, especially for sparse recommendation matrices."
      ],
      "metadata": {
        "id": "k1Z-afqRUJT7"
      }
    },
    {
      "cell_type": "code",
      "execution_count": 151,
      "metadata": {
        "id": "encFWk4CZz2I"
      },
      "outputs": [],
      "source": [
        "import pyspark as py\n",
        "from pyspark.sql import SparkSession\n",
        "from pyspark.ml.feature import StringIndexer\n",
        "from pyspark.ml.evaluation import RegressionEvaluator\n",
        "from pyspark.ml.recommendation import ALS\n",
        "from pyspark.sql.functions import udf\n",
        "from pyspark.sql.types import ArrayType, StructType, StructField, StringType, FloatType, IntegerType\n",
        "from pyspark.sql import Row\n",
        "import pandas as pd\n",
        "import numpy as np\n",
        "from pyspark.sql.functions import col, explode, when\n",
        "from pyspark.sql.functions import collect_set\n",
        "from pyspark.sql.functions import count, avg, min, max, desc\n",
        "from pyspark.ml.tuning import ParamGridBuilder, CrossValidator\n",
        "\n",
        "import matplotlib.pyplot as plt\n",
        "import seaborn as sns\n",
        "\n",
        "\n",
        "import shutil\n",
        "import os\n"
      ]
    },
    {
      "cell_type": "code",
      "source": [
        "# Create Spark session\n",
        "spark = SparkSession.builder.appName(\"Transaction Prediction\").getOrCreate()"
      ],
      "metadata": {
        "id": "wKtkSqVWaIQg"
      },
      "execution_count": 152,
      "outputs": []
    },
    {
      "cell_type": "code",
      "source": [
        "# Load the training dataset\n",
        "url =  '/content/drive/MyDrive/Module 5/BIGData/transactions.csv'\n",
        "df = spark.read.csv(url, header=True, inferSchema=True)\n",
        "# copy the df\n",
        "df_copy = df.select(\"*\")  # Creates a new DataFrame with the same data\n"
      ],
      "metadata": {
        "id": "CIjG-5M_aLw2"
      },
      "execution_count": 153,
      "outputs": []
    },
    {
      "cell_type": "code",
      "source": [
        "# Dispaly the first 5 rows\n",
        "df.show(5)"
      ],
      "metadata": {
        "colab": {
          "base_uri": "https://localhost:8080/"
        },
        "id": "EGxPadT8aINH",
        "outputId": "c0436d4b-5d5f-4101-a0f6-c3b62a3ccf97"
      },
      "execution_count": 154,
      "outputs": [
        {
          "output_type": "stream",
          "name": "stdout",
          "text": [
            "+-----+-------+-----------+--------------------+\n",
            "| User|Product|Interaction|         ProductName|\n",
            "+-----+-------+-----------+--------------------+\n",
            "|15796|      7|          2|       Fixed Deposit|\n",
            "|  861|      1|          3|Travel Rewards Cr...|\n",
            "|76821|      4|          2|           Home Loan|\n",
            "|54887|      1|          2|Travel Rewards Cr...|\n",
            "| 6266|      3|          2| Student Credit Card|\n",
            "+-----+-------+-----------+--------------------+\n",
            "only showing top 5 rows\n",
            "\n"
          ]
        }
      ]
    },
    {
      "cell_type": "markdown",
      "source": [
        "- **User**: Unique identifier for users.\n",
        "- **Product**: Encoded product ID (but we’ll replace it with ***ProductID*** from `StringIndexer`).\n",
        "- **Interaction**: User-product interaction rating (ALS needs this as the implicit/explicit feedback).\n",
        "- **ProductName**: Categorical feature that we indexed into ProductID."
      ],
      "metadata": {
        "id": "y7T1twpD1Jzs"
      }
    },
    {
      "cell_type": "markdown",
      "source": [
        "### Basic Exploratory Data Analysis (EDA) in PySpark\n",
        "#### 1️. Check Dataset Size (Rows & Columns)\n"
      ],
      "metadata": {
        "id": "u0vRcdf71lF2"
      }
    },
    {
      "cell_type": "code",
      "source": [
        "print(f\"Number of Rows: {df.count()}, Number of Columns: {len(df.columns)}\")\n"
      ],
      "metadata": {
        "colab": {
          "base_uri": "https://localhost:8080/"
        },
        "id": "YNb7T_hTuZ9z",
        "outputId": "c3fbf7ad-f4cc-4b71-84f0-cd272c3be1ee"
      },
      "execution_count": 155,
      "outputs": [
        {
          "output_type": "stream",
          "name": "stdout",
          "text": [
            "Number of Rows: 1000000, Number of Columns: 4\n"
          ]
        }
      ]
    },
    {
      "cell_type": "markdown",
      "source": [
        "#### 2️. Schema & Data Types\n",
        "This helps confirm the data types are correctly inferred.\n",
        "\n"
      ],
      "metadata": {
        "id": "3ZAKaTXD155G"
      }
    },
    {
      "cell_type": "code",
      "source": [
        "df.printSchema()\n"
      ],
      "metadata": {
        "colab": {
          "base_uri": "https://localhost:8080/"
        },
        "id": "4ZCgCLwpudZm",
        "outputId": "ffbb0b67-42b3-4710-f1e3-6399e9598ede"
      },
      "execution_count": 156,
      "outputs": [
        {
          "output_type": "stream",
          "name": "stdout",
          "text": [
            "root\n",
            " |-- User: integer (nullable = true)\n",
            " |-- Product: integer (nullable = true)\n",
            " |-- Interaction: integer (nullable = true)\n",
            " |-- ProductName: string (nullable = true)\n",
            "\n"
          ]
        }
      ]
    },
    {
      "cell_type": "markdown",
      "source": [
        "#### 3️. **Summary** Statistics\n"
      ],
      "metadata": {
        "id": "S2Swktbm2CnX"
      }
    },
    {
      "cell_type": "code",
      "source": [
        "df.describe([\"User\", \"Product\", \"Interaction\"]).show()\n"
      ],
      "metadata": {
        "colab": {
          "base_uri": "https://localhost:8080/"
        },
        "id": "asHLw2C3uiPN",
        "outputId": "70758b86-fbf2-4f36-8167-2c834f713562"
      },
      "execution_count": 157,
      "outputs": [
        {
          "output_type": "stream",
          "name": "stdout",
          "text": [
            "+-------+------------------+------------------+-----------------+\n",
            "|summary|              User|           Product|      Interaction|\n",
            "+-------+------------------+------------------+-----------------+\n",
            "|  count|           1000000|           1000000|          1000000|\n",
            "|   mean|      50014.595087|          5.498436|         2.500161|\n",
            "| stddev|28864.277886609754|2.8710903498608187|1.117490591845948|\n",
            "|    min|                 1|                 1|                1|\n",
            "|    max|            100000|                10|                4|\n",
            "+-------+------------------+------------------+-----------------+\n",
            "\n"
          ]
        }
      ]
    },
    {
      "cell_type": "markdown",
      "source": [
        "For more detailed stats:\n"
      ],
      "metadata": {
        "id": "kJb2WJNb2Wi_"
      }
    },
    {
      "cell_type": "code",
      "source": [
        "df.summary().show()\n"
      ],
      "metadata": {
        "colab": {
          "base_uri": "https://localhost:8080/"
        },
        "id": "Lzmh283WvPQg",
        "outputId": "8cb7c35f-80fa-4676-e8bc-0b2c9a496115"
      },
      "execution_count": 158,
      "outputs": [
        {
          "output_type": "stream",
          "name": "stdout",
          "text": [
            "+-------+------------------+------------------+-----------------+--------------------+\n",
            "|summary|              User|           Product|      Interaction|         ProductName|\n",
            "+-------+------------------+------------------+-----------------+--------------------+\n",
            "|  count|           1000000|           1000000|          1000000|             1000000|\n",
            "|   mean|      50014.595087|          5.498436|         2.500161|                NULL|\n",
            "| stddev|28864.277886609754|2.8710903498608187|1.117490591845948|                NULL|\n",
            "|    min|                 1|                 1|                1|            Car Loan|\n",
            "|    25%|             24994|                 3|                2|                NULL|\n",
            "|    50%|             50050|                 6|                3|                NULL|\n",
            "|    75%|             75022|                 8|                3|                NULL|\n",
            "|    max|            100000|                10|                4|Travel Rewards Cr...|\n",
            "+-------+------------------+------------------+-----------------+--------------------+\n",
            "\n"
          ]
        }
      ]
    },
    {
      "cell_type": "markdown",
      "source": [
        "#### Missing Values Check\n"
      ],
      "metadata": {
        "id": "qpEHOW6Q0xlF"
      }
    },
    {
      "cell_type": "code",
      "source": [
        "df.select([count(when(col(c).isNull(), c)).alias(c) for c in df.columns]).show()\n"
      ],
      "metadata": {
        "colab": {
          "base_uri": "https://localhost:8080/"
        },
        "id": "GiGdh68NuGFT",
        "outputId": "0fcc3f32-0cff-4007-f182-38dbac388c9e"
      },
      "execution_count": 159,
      "outputs": [
        {
          "output_type": "stream",
          "name": "stdout",
          "text": [
            "+----+-------+-----------+-----------+\n",
            "|User|Product|Interaction|ProductName|\n",
            "+----+-------+-----------+-----------+\n",
            "|   0|      0|          0|          0|\n",
            "+----+-------+-----------+-----------+\n",
            "\n"
          ]
        }
      ]
    },
    {
      "cell_type": "markdown",
      "source": [
        "#### 5️. Unique Users & Products\n",
        "\n",
        "\n",
        "---\n",
        "\n"
      ],
      "metadata": {
        "id": "WkbFP2fc2ltb"
      }
    },
    {
      "cell_type": "code",
      "source": [
        "print(f\"Unique Users: {df.select('User').distinct().count()}\")\n",
        "print(f\"Unique Products: {df.select('ProductName').distinct().count()}\")\n"
      ],
      "metadata": {
        "colab": {
          "base_uri": "https://localhost:8080/"
        },
        "id": "7B7wxtzc2_8f",
        "outputId": "62d03493-f58a-4932-d8c1-15e462bf04ea"
      },
      "execution_count": 160,
      "outputs": [
        {
          "output_type": "stream",
          "name": "stdout",
          "text": [
            "Unique Users: 99990\n",
            "Unique Products: 10\n"
          ]
        }
      ]
    },
    {
      "cell_type": "markdown",
      "source": [
        "#### 6️. Most Popular Products\n"
      ],
      "metadata": {
        "id": "ubU8xRN83HLt"
      }
    },
    {
      "cell_type": "code",
      "source": [
        "df.groupBy(\"ProductName\").count().orderBy(desc(\"count\")).show(10, False)\n"
      ],
      "metadata": {
        "colab": {
          "base_uri": "https://localhost:8080/"
        },
        "id": "egw2O0PZvZzM",
        "outputId": "317e59a6-36a1-43b6-92ea-ce3bcf2fa87d"
      },
      "execution_count": 161,
      "outputs": [
        {
          "output_type": "stream",
          "name": "stdout",
          "text": [
            "+--------------------------+------+\n",
            "|ProductName               |count |\n",
            "+--------------------------+------+\n",
            "|Cashback Credit Card      |100789|\n",
            "|Personal Loan             |100307|\n",
            "|Fixed Deposit             |100080|\n",
            "|Student Credit Card       |100039|\n",
            "|Mutual Fund - High Risk   |99917 |\n",
            "|Car Loan                  |99915 |\n",
            "|Mutual Fund - Low Risk    |99885 |\n",
            "|Home Loan                 |99799 |\n",
            "|Gold Investment Plan      |99774 |\n",
            "|Travel Rewards Credit Card|99495 |\n",
            "+--------------------------+------+\n",
            "\n"
          ]
        }
      ]
    },
    {
      "cell_type": "markdown",
      "source": [
        "This shows the top 10 most interacted-with products.\n"
      ],
      "metadata": {
        "id": "rmpIQUC73OTk"
      }
    },
    {
      "cell_type": "markdown",
      "source": [
        "#### 7️. User Activity Distribution"
      ],
      "metadata": {
        "id": "J45CVaBZ3S4M"
      }
    },
    {
      "cell_type": "code",
      "source": [
        "df.groupBy(\"User\").count().orderBy(desc(\"count\")).show(10, False)\n"
      ],
      "metadata": {
        "id": "mB6T8Bs5vXhL",
        "colab": {
          "base_uri": "https://localhost:8080/"
        },
        "outputId": "023d0c49-e04c-417d-e33c-99da4f44355d"
      },
      "execution_count": 162,
      "outputs": [
        {
          "output_type": "stream",
          "name": "stdout",
          "text": [
            "+-----+-----+\n",
            "|User |count|\n",
            "+-----+-----+\n",
            "|78702|26   |\n",
            "|23491|25   |\n",
            "|11991|25   |\n",
            "|61717|25   |\n",
            "|60   |25   |\n",
            "|3688 |25   |\n",
            "|31697|24   |\n",
            "|39987|24   |\n",
            "|61135|24   |\n",
            "|80338|24   |\n",
            "+-----+-----+\n",
            "only showing top 10 rows\n",
            "\n"
          ]
        }
      ]
    },
    {
      "cell_type": "markdown",
      "source": [
        "This helps analyze how many interactions each user has.\n",
        "\n"
      ],
      "metadata": {
        "id": "T74gY73A3YX-"
      }
    },
    {
      "cell_type": "markdown",
      "source": [
        "#### 8️. Interaction Distribution"
      ],
      "metadata": {
        "id": "ZqAt-RLa3esR"
      }
    },
    {
      "cell_type": "code",
      "source": [
        "df.groupBy(\"Interaction\").count().orderBy(desc(\"count\")).show()\n"
      ],
      "metadata": {
        "id": "ro-Nma3avhyZ",
        "colab": {
          "base_uri": "https://localhost:8080/"
        },
        "outputId": "e1e918e9-cbe9-4972-d085-ce36af057dff"
      },
      "execution_count": 163,
      "outputs": [
        {
          "output_type": "stream",
          "name": "stdout",
          "text": [
            "+-----------+------+\n",
            "|Interaction| count|\n",
            "+-----------+------+\n",
            "|          3|250753|\n",
            "|          2|249855|\n",
            "|          1|249792|\n",
            "|          4|249600|\n",
            "+-----------+------+\n",
            "\n"
          ]
        }
      ]
    },
    {
      "cell_type": "markdown",
      "source": [
        "This checks the frequency of different interaction values.\n",
        "\n",
        "\n",
        "\n",
        "- Distribution of Interactions (How often users interact with products)\n",
        "- Insight: This helps analyze whether interactions are normally distributed or skewed.\n",
        "\n"
      ],
      "metadata": {
        "id": "cFP8tng03dIy"
      }
    },
    {
      "cell_type": "code",
      "source": [
        "df_sample = df.limit(5000).toPandas()\n",
        "\n",
        "plt.figure(figsize=(8, 5))\n",
        "sns.histplot(df_sample[\"Interaction\"], bins=10, kde=True)\n",
        "plt.title(\"Interaction Distribution\")\n",
        "plt.show()\n"
      ],
      "metadata": {
        "id": "WqXHWCQsvq2q",
        "colab": {
          "base_uri": "https://localhost:8080/",
          "height": 487
        },
        "outputId": "4f8e6df3-b69f-4320-f9c2-6d54cbc30975"
      },
      "execution_count": 164,
      "outputs": [
        {
          "output_type": "display_data",
          "data": {
            "text/plain": [
              "<Figure size 800x500 with 1 Axes>"
            ],
            "image/png": "[encoded data removed]"
          },
          "metadata": {}
        }
      ]
    },
    {
      "cell_type": "markdown",
      "source": [
        "It's useful because it helps businesses understand what normal customer behavior looks like versus what's unusual, kind of like knowing if someone is a window shopper, a casual browser, or a really engaged customer."
      ],
      "metadata": {
        "id": "mW1pohbfZB9_"
      }
    },
    {
      "cell_type": "markdown",
      "source": [
        "#### Top 5 Most Popular *Products*"
      ],
      "metadata": {
        "id": "rKNvJvPJ4aN_"
      }
    },
    {
      "cell_type": "code",
      "source": [
        "top_products = df.groupBy(\"ProductName\").count().orderBy(desc(\"count\")).limit(5).toPandas()\n",
        "\n",
        "plt.figure(figsize=(10, 5))\n",
        "sns.barplot(y=top_products[\"ProductName\"], x=top_products[\"count\"], palette=\"viridis\")\n",
        "plt.title(\"Top 10 Most Popular Products\")\n",
        "plt.xlabel(\"Number of Interactions\")\n",
        "plt.ylabel(\"Product Name\")\n",
        "plt.show()\n"
      ],
      "metadata": {
        "id": "blllBTsAv02E",
        "colab": {
          "base_uri": "https://localhost:8080/",
          "height": 578
        },
        "outputId": "c0c33bd2-1c67-46a3-e1a8-0bc4c8094d9c"
      },
      "execution_count": 165,
      "outputs": [
        {
          "output_type": "stream",
          "name": "stderr",
          "text": [
            "<ipython-input-165-45d2afea8245>:4: FutureWarning: \n",
            "\n",
            "Passing `palette` without assigning `hue` is deprecated and will be removed in v0.14.0. Assign the `y` variable to `hue` and set `legend=False` for the same effect.\n",
            "\n",
            "  sns.barplot(y=top_products[\"ProductName\"], x=top_products[\"count\"], palette=\"viridis\")\n"
          ]
        },
        {
          "output_type": "display_data",
          "data": {
            "text/plain": [
              "<Figure size 1000x500 with 1 Axes>"
            ],
            "image/png": "[encoded data removed]"
          },
          "metadata": {}
        }
      ]
    },
    {
      "cell_type": "markdown",
      "source": [
        "#### Active Users (Top 10 users with most interactions)\n",
        "- Insight: Helps identify power users who frequently interact with products.\n",
        "\n"
      ],
      "metadata": {
        "id": "cbVJU0e_4rfk"
      }
    },
    {
      "cell_type": "code",
      "source": [
        "top_users = df.groupBy(\"User\").count().orderBy(desc(\"count\")).limit(10).toPandas()\n",
        "\n",
        "plt.figure(figsize=(10, 5))\n",
        "sns.barplot(x=top_users[\"User\"], y=top_users[\"count\"], palette=\"coolwarm\")\n",
        "plt.title(\"Top 10 Active Users\")\n",
        "plt.xlabel(\"User ID\")\n",
        "plt.ylabel(\"Number of Interactions\")\n",
        "plt.xticks(rotation=45)\n",
        "plt.show()\n"
      ],
      "metadata": {
        "id": "E0YzIIXcv6-a",
        "colab": {
          "base_uri": "https://localhost:8080/",
          "height": 605
        },
        "outputId": "8c50f1b8-8b81-4277-873a-c4ffc701ed7d"
      },
      "execution_count": 166,
      "outputs": [
        {
          "output_type": "stream",
          "name": "stderr",
          "text": [
            "<ipython-input-166-3d2fc30e7aa7>:4: FutureWarning: \n",
            "\n",
            "Passing `palette` without assigning `hue` is deprecated and will be removed in v0.14.0. Assign the `x` variable to `hue` and set `legend=False` for the same effect.\n",
            "\n",
            "  sns.barplot(x=top_users[\"User\"], y=top_users[\"count\"], palette=\"coolwarm\")\n"
          ]
        },
        {
          "output_type": "display_data",
          "data": {
            "text/plain": [
              "<Figure size 1000x500 with 1 Axes>"
            ],
            "image/png": "[encoded data removed]"
          },
          "metadata": {}
        }
      ]
    },
    {
      "cell_type": "markdown",
      "source": [
        "### User-Product Interaction Matrix (Pivot Table)\n",
        "This matrix shows how users interact with different products.\n"
      ],
      "metadata": {
        "id": "u-ej6RUE5E5l"
      }
    },
    {
      "cell_type": "code",
      "source": [
        "interaction_matrix = df.groupBy(\"User\", \"ProductName\").agg(avg(\"Interaction\").alias(\"AvgInteraction\"))\n",
        "interaction_pivot = interaction_matrix.groupBy(\"User\").pivot(\"ProductName\").agg(avg(\"AvgInteraction\"))\n",
        "interaction_pivot.show(10, False)\n"
      ],
      "metadata": {
        "id": "jvE2hM73vlQX",
        "colab": {
          "base_uri": "https://localhost:8080/"
        },
        "outputId": "a537e94d-668b-4bb1-fb98-ae6fe889bd30"
      },
      "execution_count": 167,
      "outputs": [
        {
          "output_type": "stream",
          "name": "stdout",
          "text": [
            "+-----+------------------+--------------------+------------------+--------------------+------------------+-----------------------+----------------------+------------------+-------------------+--------------------------+\n",
            "|User |Car Loan          |Cashback Credit Card|Fixed Deposit     |Gold Investment Plan|Home Loan         |Mutual Fund - High Risk|Mutual Fund - Low Risk|Personal Loan     |Student Credit Card|Travel Rewards Credit Card|\n",
            "+-----+------------------+--------------------+------------------+--------------------+------------------+-----------------------+----------------------+------------------+-------------------+--------------------------+\n",
            "|80579|4.0               |2.5                 |2.0               |4.0                 |1.6666666666666667|1.0                    |2.0                   |NULL              |NULL               |NULL                      |\n",
            "|84812|2.6666666666666665|NULL                |NULL              |2.0                 |1.0               |3.6666666666666665     |NULL                  |2.3333333333333335|2.0                |2.3333333333333335        |\n",
            "|89574|4.0               |2.0                 |NULL              |3.0                 |NULL              |NULL                   |1.0                   |3.0               |3.0                |NULL                      |\n",
            "|49855|3.0               |2.5                 |4.0               |1.5                 |NULL              |2.5                    |3.0                   |1.3333333333333333|3.0                |2.75                      |\n",
            "|12799|2.0               |4.0                 |1.0               |2.0                 |NULL              |NULL                   |1.0                   |NULL              |4.0                |2.0                       |\n",
            "|18911|3.0               |1.0                 |1.5               |3.0                 |NULL              |4.0                    |2.0                   |NULL              |1.0                |NULL                      |\n",
            "|38311|NULL              |2.0                 |2.3333333333333335|NULL                |NULL              |3.0                    |1.0                   |3.0               |NULL               |4.0                       |\n",
            "|46952|2.5               |3.5                 |1.5               |NULL                |NULL              |NULL                   |NULL                  |1.5               |3.0                |3.0                       |\n",
            "|50353|NULL              |NULL                |4.0               |NULL                |NULL              |1.0                    |4.0                   |4.0               |2.0                |1.6666666666666667        |\n",
            "|16861|NULL              |2.5                 |4.0               |1.5                 |NULL              |3.0                    |3.0                   |NULL              |4.0                |2.5                       |\n",
            "+-----+------------------+--------------------+------------------+--------------------+------------------+-----------------------+----------------------+------------------+-------------------+--------------------------+\n",
            "only showing top 10 rows\n",
            "\n"
          ]
        }
      ]
    },
    {
      "cell_type": "markdown",
      "source": [
        "#### User-Product Pair with Highest Interaction\n",
        "Find the most engaged user-product pair.\n"
      ],
      "metadata": {
        "id": "KTnxgwwU5V5T"
      }
    },
    {
      "cell_type": "code",
      "source": [
        "top_interaction = df.orderBy(desc(\"Interaction\")).limit(1)\n",
        "top_interaction.show()\n"
      ],
      "metadata": {
        "id": "WnnkOo1WvvXM",
        "colab": {
          "base_uri": "https://localhost:8080/"
        },
        "outputId": "ff49aa8a-bbde-44f9-aae5-c3f25296a25d"
      },
      "execution_count": 168,
      "outputs": [
        {
          "output_type": "stream",
          "name": "stdout",
          "text": [
            "+-----+-------+-----------+--------------------+\n",
            "| User|Product|Interaction|         ProductName|\n",
            "+-----+-------+-----------+--------------------+\n",
            "|51486|      2|          4|Cashback Credit Card|\n",
            "+-----+-------+-----------+--------------------+\n",
            "\n"
          ]
        }
      ]
    },
    {
      "cell_type": "markdown",
      "source": [
        "#### Cold Start Problem Analysis (Users & Products with Few Interactions)\n",
        "To check if new users or products lack interactions:\n"
      ],
      "metadata": {
        "id": "7Jmrk7Xn5i5F"
      }
    },
    {
      "cell_type": "code",
      "source": [
        "cold_users = df.groupBy(\"User\").count().filter(col(\"count\") < 3).count()\n",
        "cold_products = df.groupBy(\"ProductName\").count().filter(col(\"count\") < 3).count()\n",
        "\n",
        "print(f\"Cold Start Users (few interactions): {cold_users}\")\n",
        "print(f\"Cold Start Products (few interactions): {cold_products}\")\n"
      ],
      "metadata": {
        "id": "V6ynUPFewiiE",
        "colab": {
          "base_uri": "https://localhost:8080/"
        },
        "outputId": "56e8e269-30e0-4c61-95b8-68eb31319c8c"
      },
      "execution_count": 169,
      "outputs": [
        {
          "output_type": "stream",
          "name": "stdout",
          "text": [
            "Cold Start Users (few interactions): 291\n",
            "Cold Start Products (few interactions): 0\n"
          ]
        }
      ]
    },
    {
      "cell_type": "markdown",
      "source": [
        "🔹Helps determine if ALS needs tuning for new users/products.\n",
        "\n",
        "- Since we have 291 cold-start users (users with few or no interactions), we need strategies to handle them in our ALS collaborative filtering model.\n",
        "\n",
        "- By default, ALS can drop predictions for unknown users using:\n"
      ],
      "metadata": {
        "id": "WvFo-MY55oqu"
      }
    },
    {
      "cell_type": "markdown",
      "source": [
        "## Applying ALS (Alternating Least Squares) for Collaborative Filtering\n"
      ],
      "metadata": {
        "id": "qtJQatGh6g3u"
      }
    },
    {
      "cell_type": "markdown",
      "source": [
        "Now that we've done EDA, let's train the **ALS** (Alternating Least Squares) model for recommendation. **ALS** is better suited for large-scale implicit or explicit feedback datasets compared to **SVD**.\n",
        "\n"
      ],
      "metadata": {
        "id": "VSwU_SE_6pQE"
      }
    },
    {
      "cell_type": "markdown",
      "source": [
        "Prepare Data for ALS\n",
        "Ensure the dataset contains numerical values for:\n",
        "\n",
        "**ProductID**: Encoded **Product Name** using StringIndexer\n"
      ],
      "metadata": {
        "id": "8OkzmETg67kd"
      }
    },
    {
      "cell_type": "code",
      "source": [
        "# Extract unique ProductName list before indexing\n",
        "product_mapping_df = df.select(\"ProductName\").distinct()\n",
        "\n",
        "# Apply StringIndexer to convert ProductName → ProductID\n",
        "indexer = StringIndexer(inputCol=\"ProductName\", outputCol=\"ProductID\", handleInvalid=\"keep\")\n",
        "indexer_model = indexer.fit(df)\n",
        "\n",
        "# Transform data (now we have ProductID)\n",
        "df = indexer_model.transform(df)\n",
        "\n",
        "# Extract mapping dictionary (ProductID → ProductName)\n",
        "product_mapping = {idx: name for idx, name in enumerate(indexer_model.labels)}\n",
        "\n",
        "# Show mapping\n",
        "print(product_mapping)\n"
      ],
      "metadata": {
        "colab": {
          "base_uri": "https://localhost:8080/"
        },
        "id": "KUWWuP4PLoe7",
        "outputId": "b1c7bf85-ebbe-44a3-be97-dba27a744118"
      },
      "execution_count": 170,
      "outputs": [
        {
          "output_type": "stream",
          "name": "stdout",
          "text": [
            "{0: 'Cashback Credit Card', 1: 'Personal Loan', 2: 'Fixed Deposit', 3: 'Student Credit Card', 4: 'Mutual Fund - High Risk', 5: 'Car Loan', 6: 'Mutual Fund - Low Risk', 7: 'Home Loan', 8: 'Gold Investment Plan', 9: 'Travel Rewards Credit Card'}\n"
          ]
        }
      ]
    },
    {
      "cell_type": "markdown",
      "source": [
        "Then, cast the necessary columns:\n"
      ],
      "metadata": {
        "id": "hWCeY2Z57E7i"
      }
    },
    {
      "cell_type": "code",
      "source": [
        "df = df.select(\n",
        "    col(\"User\").cast(\"integer\"),\n",
        "    col(\"ProductID\").cast(\"integer\"),  # Using indexed ProductID\n",
        "    col(\"Interaction\").cast(\"integer\")\n",
        ")\n",
        "\n",
        "# Show processed data\n",
        "df.show(5)\n"
      ],
      "metadata": {
        "id": "di07CbwHw-eB",
        "colab": {
          "base_uri": "https://localhost:8080/"
        },
        "outputId": "8656193f-3985-4128-c8c8-19d02cc54f37"
      },
      "execution_count": 171,
      "outputs": [
        {
          "output_type": "stream",
          "name": "stdout",
          "text": [
            "+-----+---------+-----------+\n",
            "| User|ProductID|Interaction|\n",
            "+-----+---------+-----------+\n",
            "|15796|        2|          2|\n",
            "|  861|        9|          3|\n",
            "|76821|        7|          2|\n",
            "|54887|        9|          2|\n",
            "| 6266|        3|          2|\n",
            "+-----+---------+-----------+\n",
            "only showing top 5 rows\n",
            "\n"
          ]
        }
      ]
    },
    {
      "cell_type": "code",
      "source": [
        "#Train-Test Split\n",
        "\n",
        "(train, test) = df.randomSplit([0.8, 0.2], seed=42)\n"
      ],
      "metadata": {
        "id": "T73JHgswxLBO"
      },
      "execution_count": 172,
      "outputs": []
    },
    {
      "cell_type": "code",
      "source": [
        "# Train ALS Model\n",
        "als = ALS(\n",
        "    maxIter=10,        # Number of iterations\n",
        "    regParam=0.1,      # Regularization parameter (to prevent overfitting)\n",
        "    userCol=\"User\",\n",
        "    itemCol=\"ProductID\",\n",
        "    ratingCol=\"Interaction\",\n",
        "    coldStartStrategy=\"drop\",  # Prevents errors when making predictions for unseen users/products\n",
        "    nonnegative=True,  # Ensure non-negative ratings\n",
        "    implicitPrefs=False  # Set to True for implicit feedback datasets\n",
        ")\n",
        "\n",
        "model = als.fit(train)\n"
      ],
      "metadata": {
        "id": "9xTBa1L3w4Ob"
      },
      "execution_count": 173,
      "outputs": []
    },
    {
      "cell_type": "code",
      "source": [
        "#make predictions\n",
        "predictions = model.transform(test)\n",
        "predictions.show(5)\n"
      ],
      "metadata": {
        "id": "_1b9xWbtxTZ7",
        "colab": {
          "base_uri": "https://localhost:8080/"
        },
        "outputId": "c490341d-80bd-403d-f86a-c7afcc17fbb0"
      },
      "execution_count": 174,
      "outputs": [
        {
          "output_type": "stream",
          "name": "stdout",
          "text": [
            "+----+---------+-----------+----------+\n",
            "|User|ProductID|Interaction|prediction|\n",
            "+----+---------+-----------+----------+\n",
            "| 148|        2|          3| 2.0498786|\n",
            "| 148|        6|          4| 2.0316584|\n",
            "| 463|        3|          3| 2.6332152|\n",
            "| 463|        4|          3| 2.3365302|\n",
            "| 471|        6|          4| 2.4692464|\n",
            "+----+---------+-----------+----------+\n",
            "only showing top 5 rows\n",
            "\n"
          ]
        }
      ]
    },
    {
      "cell_type": "markdown",
      "source": [
        "#### We use Root Mean Squared Error (**RMSE**) to measure accuracy:\n"
      ],
      "metadata": {
        "id": "Rf_cYeso7nav"
      }
    },
    {
      "cell_type": "code",
      "source": [
        "#Evaluate ALS Model\n",
        "evaluator = RegressionEvaluator(\n",
        "    metricName=\"rmse\",\n",
        "    labelCol=\"Interaction\",\n",
        "    predictionCol=\"prediction\"\n",
        ")\n",
        "\n",
        "rmse = evaluator.evaluate(predictions)\n",
        "print(f\"Root Mean Squared Error (RMSE): {rmse}\")\n"
      ],
      "metadata": {
        "id": "lnTOGdP2xXTw",
        "colab": {
          "base_uri": "https://localhost:8080/"
        },
        "outputId": "1dbc2407-e712-4003-f78d-d58695dfdca9"
      },
      "execution_count": 175,
      "outputs": [
        {
          "output_type": "stream",
          "name": "stdout",
          "text": [
            "Root Mean Squared Error (RMSE): 1.2956744055383502\n"
          ]
        }
      ]
    },
    {
      "cell_type": "markdown",
      "source": [
        "RMSE measures the average prediction error in the same unit as the rating (or interaction score).\n",
        "An RMSE of **1.2957** suggests that, on average, the model's predicted interaction scores deviate by **~1.30** from actual values.\n"
      ],
      "metadata": {
        "id": "Mo_rGw0SH69G"
      }
    },
    {
      "cell_type": "markdown",
      "source": [
        "The model is reasonably accurate but can be improved.\n",
        "- Next Steps to Optimize:\n",
        "Handling Cold Start Users (improving recommendations for users with fewer interactions).\n"
      ],
      "metadata": {
        "id": "mQwYayZlII9l"
      }
    },
    {
      "cell_type": "markdown",
      "source": [
        "🔹 Lower RMSE means better predictions.\n"
      ],
      "metadata": {
        "id": "WPbtUtbi8ySY"
      }
    },
    {
      "cell_type": "markdown",
      "source": [
        "Top 10 Product Recommendations for Each User\n"
      ],
      "metadata": {
        "id": "Y0tJCu_S7yuy"
      }
    },
    {
      "cell_type": "code",
      "source": [
        "# Generate Recommendations\n",
        "user_recommendations = model.recommendForAllUsers(10)\n",
        "user_recommendations.show(10, False)\n"
      ],
      "metadata": {
        "id": "b9QkQb6WxdVM",
        "colab": {
          "base_uri": "https://localhost:8080/"
        },
        "outputId": "64501a14-9cce-4dc2-ef2a-da5ed71ee2b2"
      },
      "execution_count": 176,
      "outputs": [
        {
          "output_type": "stream",
          "name": "stdout",
          "text": [
            "+----+---------------------------------------------------------------------------------------------------------------------------------------------------------------+\n",
            "|User|recommendations                                                                                                                                                |\n",
            "+----+---------------------------------------------------------------------------------------------------------------------------------------------------------------+\n",
            "|1   |[{5, 3.6026585}, {2, 3.534845}, {4, 3.1545637}, {3, 2.8752258}, {0, 2.8493886}, {9, 2.6878133}, {7, 2.6453965}, {1, 2.5767343}, {8, 2.1383173}, {6, 1.5909458}]|\n",
            "|3   |[{2, 3.5065827}, {0, 3.4846337}, {4, 2.5104308}, {3, 2.3067992}, {7, 2.2951288}, {8, 2.2233467}, {9, 2.2231433}, {6, 2.086244}, {1, 2.03817}, {5, 1.6455071}]  |\n",
            "|5   |[{0, 3.6746953}, {5, 3.6646342}, {7, 3.6560168}, {9, 3.2788146}, {6, 3.0042357}, {2, 2.98603}, {1, 2.9365096}, {4, 2.923393}, {8, 2.884363}, {3, 2.3036647}]   |\n",
            "|6   |[{4, 2.5144544}, {1, 2.5068002}, {0, 2.33836}, {2, 1.9760118}, {9, 1.9710566}, {8, 1.9692891}, {6, 1.9665684}, {5, 1.9536163}, {7, 1.8863147}, {3, 1.4183904}] |\n",
            "|9   |[{1, 3.4140074}, {9, 2.410631}, {2, 2.034611}, {8, 1.9998482}, {6, 1.9981682}, {4, 1.9929154}, {3, 1.9555602}, {5, 1.9445835}, {0, 1.9151632}, {7, 1.2920963}] |\n",
            "|12  |[{7, 3.424007}, {2, 3.318161}, {1, 3.189293}, {9, 3.0768673}, {6, 2.5341609}, {0, 2.4196596}, {3, 2.4009526}, {5, 2.2993653}, {4, 2.2154517}, {8, 1.7030438}]  |\n",
            "|13  |[{0, 3.4100728}, {6, 2.8326426}, {5, 2.6797106}, {4, 2.0520408}, {2, 1.9259684}, {1, 1.895954}, {9, 1.8069402}, {7, 1.6545582}, {3, 1.412242}, {8, 1.3906202}] |\n",
            "|15  |[{0, 3.4290316}, {8, 2.4315295}, {9, 2.4245853}, {5, 2.2785733}, {4, 2.271161}, {2, 2.2337801}, {1, 2.166012}, {7, 2.1585593}, {6, 2.0705357}, {3, 2.063492}]  |\n",
            "|16  |[{1, 2.2712703}, {6, 2.1951022}, {0, 1.8440701}, {4, 1.830628}, {2, 1.508811}, {9, 1.3817216}, {8, 1.3418874}, {5, 1.3299648}, {3, 1.3298126}, {7, 1.227935}]  |\n",
            "|17  |[{0, 1.8498647}, {3, 1.477502}, {7, 1.475252}, {4, 1.3356215}, {5, 1.3222557}, {6, 1.3183206}, {8, 1.3145701}, {2, 1.3113979}, {9, 1.3074274}, {1, 1.2900523}] |\n",
            "+----+---------------------------------------------------------------------------------------------------------------------------------------------------------------+\n",
            "only showing top 10 rows\n",
            "\n"
          ]
        }
      ]
    },
    {
      "cell_type": "markdown",
      "source": [
        "#### Create a Mapping Between ProductID and ProductName\n",
        "Since we used StringIndexer to convert ProductName into ProductID, we need to reverse that transformation.\n",
        "\n"
      ],
      "metadata": {
        "id": "9DvFq9wV9ih7"
      }
    },
    {
      "cell_type": "markdown",
      "source": [
        "The output is the ALS model's product recommendations for each product in a structured format. However, the ProductID is numeric, making it difficult to interpret. We can convert it back to its original ProductName to make it more understandable."
      ],
      "metadata": {
        "id": "5QL5mVgi83iN"
      }
    },
    {
      "cell_type": "code",
      "source": [
        "# Define UDF to map ProductID → ProductName\n",
        "def map_product_ids(rec_list):\n",
        "    return [(int(item[0]), product_mapping.get(int(item[0]), \"Unknown Product\"), item[1]) for item in rec_list]\n",
        "\n",
        "map_product_udf = udf(map_product_ids, ArrayType(StructType([\n",
        "    StructField(\"ProductID\", IntegerType(), True),\n",
        "    StructField(\"ProductName\", StringType(), True),\n",
        "    StructField(\"Score\", FloatType(), True)\n",
        "])))\n",
        "\n",
        "# Apply mapping transformation\n",
        "readable_recommendations = user_recommendations.withColumn(\"recommendations\", map_product_udf(\"recommendations\"))\n",
        "\n",
        "# Show final recommendations with Product Names\n",
        "readable_recommendations.show(truncate=False)\n"
      ],
      "metadata": {
        "colab": {
          "base_uri": "https://localhost:8080/"
        },
        "id": "yCHZYW--Ii5a",
        "outputId": "fb0bf01d-ec1b-478c-e390-9a63061425ef"
      },
      "execution_count": 177,
      "outputs": [
        {
          "output_type": "stream",
          "name": "stdout",
          "text": [
            "+----+-----------------------------------------------------------------------------------------------------------------------------------------------------------------------------------------------------------------------------------------------------------------------------------------------------------------------------------------------------------------+\n",
            "|User|recommendations                                                                                                                                                                                                                                                                                                                                                  |\n",
            "+----+-----------------------------------------------------------------------------------------------------------------------------------------------------------------------------------------------------------------------------------------------------------------------------------------------------------------------------------------------------------------+\n",
            "|1   |[{5, Car Loan, 3.6026585}, {2, Fixed Deposit, 3.534845}, {4, Mutual Fund - High Risk, 3.1545637}, {3, Student Credit Card, 2.8752258}, {0, Cashback Credit Card, 2.8493886}, {9, Travel Rewards Credit Card, 2.6878133}, {7, Home Loan, 2.6453965}, {1, Personal Loan, 2.5767343}, {8, Gold Investment Plan, 2.1383173}, {6, Mutual Fund - Low Risk, 1.5909458}] |\n",
            "|3   |[{2, Fixed Deposit, 3.5065827}, {0, Cashback Credit Card, 3.4846337}, {4, Mutual Fund - High Risk, 2.5104308}, {3, Student Credit Card, 2.3067992}, {7, Home Loan, 2.2951288}, {8, Gold Investment Plan, 2.2233467}, {9, Travel Rewards Credit Card, 2.2231433}, {6, Mutual Fund - Low Risk, 2.086244}, {1, Personal Loan, 2.03817}, {5, Car Loan, 1.6455071}]   |\n",
            "|5   |[{0, Cashback Credit Card, 3.6746953}, {5, Car Loan, 3.6646342}, {7, Home Loan, 3.6560168}, {9, Travel Rewards Credit Card, 3.2788146}, {6, Mutual Fund - Low Risk, 3.0042357}, {2, Fixed Deposit, 2.98603}, {1, Personal Loan, 2.9365096}, {4, Mutual Fund - High Risk, 2.923393}, {8, Gold Investment Plan, 2.884363}, {3, Student Credit Card, 2.3036647}]    |\n",
            "|6   |[{4, Mutual Fund - High Risk, 2.5144544}, {1, Personal Loan, 2.5068002}, {0, Cashback Credit Card, 2.33836}, {2, Fixed Deposit, 1.9760118}, {9, Travel Rewards Credit Card, 1.9710566}, {8, Gold Investment Plan, 1.9692891}, {6, Mutual Fund - Low Risk, 1.9665684}, {5, Car Loan, 1.9536163}, {7, Home Loan, 1.8863147}, {3, Student Credit Card, 1.4183904}]  |\n",
            "|9   |[{1, Personal Loan, 3.4140074}, {9, Travel Rewards Credit Card, 2.410631}, {2, Fixed Deposit, 2.034611}, {8, Gold Investment Plan, 1.9998482}, {6, Mutual Fund - Low Risk, 1.9981682}, {4, Mutual Fund - High Risk, 1.9929154}, {3, Student Credit Card, 1.9555602}, {5, Car Loan, 1.9445835}, {0, Cashback Credit Card, 1.9151632}, {7, Home Loan, 1.2920963}]  |\n",
            "|12  |[{7, Home Loan, 3.424007}, {2, Fixed Deposit, 3.318161}, {1, Personal Loan, 3.189293}, {9, Travel Rewards Credit Card, 3.0768673}, {6, Mutual Fund - Low Risk, 2.5341609}, {0, Cashback Credit Card, 2.4196596}, {3, Student Credit Card, 2.4009526}, {5, Car Loan, 2.2993653}, {4, Mutual Fund - High Risk, 2.2154517}, {8, Gold Investment Plan, 1.7030438}]   |\n",
            "|13  |[{0, Cashback Credit Card, 3.4100728}, {6, Mutual Fund - Low Risk, 2.8326426}, {5, Car Loan, 2.6797106}, {4, Mutual Fund - High Risk, 2.0520408}, {2, Fixed Deposit, 1.9259684}, {1, Personal Loan, 1.895954}, {9, Travel Rewards Credit Card, 1.8069402}, {7, Home Loan, 1.6545582}, {3, Student Credit Card, 1.412242}, {8, Gold Investment Plan, 1.3906202}]  |\n",
            "|15  |[{0, Cashback Credit Card, 3.4290316}, {8, Gold Investment Plan, 2.4315295}, {9, Travel Rewards Credit Card, 2.4245853}, {5, Car Loan, 2.2785733}, {4, Mutual Fund - High Risk, 2.271161}, {2, Fixed Deposit, 2.2337801}, {1, Personal Loan, 2.166012}, {7, Home Loan, 2.1585593}, {6, Mutual Fund - Low Risk, 2.0705357}, {3, Student Credit Card, 2.063492}]   |\n",
            "|16  |[{1, Personal Loan, 2.2712703}, {6, Mutual Fund - Low Risk, 2.1951022}, {0, Cashback Credit Card, 1.8440701}, {4, Mutual Fund - High Risk, 1.830628}, {2, Fixed Deposit, 1.508811}, {9, Travel Rewards Credit Card, 1.3817216}, {8, Gold Investment Plan, 1.3418874}, {5, Car Loan, 1.3299648}, {3, Student Credit Card, 1.3298126}, {7, Home Loan, 1.227935}]   |\n",
            "|17  |[{0, Cashback Credit Card, 1.8498647}, {3, Student Credit Card, 1.477502}, {7, Home Loan, 1.475252}, {4, Mutual Fund - High Risk, 1.3356215}, {5, Car Loan, 1.3222557}, {6, Mutual Fund - Low Risk, 1.3183206}, {8, Gold Investment Plan, 1.3145701}, {2, Fixed Deposit, 1.3113979}, {9, Travel Rewards Credit Card, 1.3074274}, {1, Personal Loan, 1.2900523}]  |\n",
            "|19  |[{4, Mutual Fund - High Risk, 3.869127}, {7, Home Loan, 3.760003}, {1, Personal Loan, 3.754542}, {9, Travel Rewards Credit Card, 2.981414}, {6, Mutual Fund - Low Risk, 2.9779737}, {3, Student Credit Card, 2.9728172}, {0, Cashback Credit Card, 2.92981}, {2, Fixed Deposit, 2.9003916}, {5, Car Loan, 2.895591}, {8, Gold Investment Plan, 2.2058349}]       |\n",
            "|20  |[{2, Fixed Deposit, 3.5961854}, {7, Home Loan, 3.5547307}, {8, Gold Investment Plan, 3.5502074}, {3, Student Credit Card, 3.0883977}, {0, Cashback Credit Card, 3.0242946}, {6, Mutual Fund - Low Risk, 2.9982743}, {5, Car Loan, 2.955332}, {4, Mutual Fund - High Risk, 2.777322}, {9, Travel Rewards Credit Card, 2.5571282}, {1, Personal Loan, 2.4012072}]  |\n",
            "|22  |[{4, Mutual Fund - High Risk, 3.0607018}, {0, Cashback Credit Card, 2.7290714}, {3, Student Credit Card, 2.6518092}, {7, Home Loan, 2.4077544}, {8, Gold Investment Plan, 2.3261793}, {6, Mutual Fund - Low Risk, 2.07416}, {9, Travel Rewards Credit Card, 1.9877483}, {1, Personal Loan, 1.9775422}, {5, Car Loan, 1.9374948}, {2, Fixed Deposit, 1.7096337}]  |\n",
            "|26  |[{6, Mutual Fund - Low Risk, 3.2738545}, {0, Cashback Credit Card, 3.2698903}, {9, Travel Rewards Credit Card, 2.9093382}, {5, Car Loan, 2.8714483}, {3, Student Credit Card, 2.8607583}, {8, Gold Investment Plan, 2.8576598}, {4, Mutual Fund - High Risk, 2.6764922}, {2, Fixed Deposit, 2.6505945}, {7, Home Loan, 2.631264}, {1, Personal Loan, 2.5420344}] |\n",
            "|27  |[{2, Fixed Deposit, 3.1202765}, {0, Cashback Credit Card, 2.6467538}, {5, Car Loan, 2.3829343}, {3, Student Credit Card, 2.295563}, {6, Mutual Fund - Low Risk, 2.0617542}, {4, Mutual Fund - High Risk, 1.9645945}, {7, Home Loan, 1.8801016}, {8, Gold Investment Plan, 1.7578739}, {1, Personal Loan, 1.752378}, {9, Travel Rewards Credit Card, 1.4633772}]  |\n",
            "|28  |[{4, Mutual Fund - High Risk, 3.5347376}, {6, Mutual Fund - Low Risk, 2.700737}, {3, Student Credit Card, 2.5772645}, {0, Cashback Credit Card, 2.5501513}, {1, Personal Loan, 2.3952885}, {9, Travel Rewards Credit Card, 1.9479027}, {2, Fixed Deposit, 1.852748}, {7, Home Loan, 1.776535}, {8, Gold Investment Plan, 1.640352}, {5, Car Loan, 1.5868434}]    |\n",
            "|31  |[{6, Mutual Fund - Low Risk, 2.6301706}, {5, Car Loan, 2.3852036}, {2, Fixed Deposit, 2.3696473}, {8, Gold Investment Plan, 1.9895524}, {9, Travel Rewards Credit Card, 1.9725703}, {0, Cashback Credit Card, 1.9620053}, {7, Home Loan, 1.942305}, {3, Student Credit Card, 1.9053674}, {4, Mutual Fund - High Risk, 1.8979268}, {1, Personal Loan, 1.3692212}] |\n",
            "|34  |[{2, Fixed Deposit, 3.3357058}, {8, Gold Investment Plan, 3.316815}, {0, Cashback Credit Card, 2.1659405}, {4, Mutual Fund - High Risk, 2.149875}, {3, Student Credit Card, 2.1115344}, {7, Home Loan, 1.7094359}, {6, Mutual Fund - Low Risk, 1.7055495}, {1, Personal Loan, 1.5176284}, {5, Car Loan, 1.3083949}, {9, Travel Rewards Credit Card, 1.212568}]   |\n",
            "|35  |[{3, Student Credit Card, 2.8657398}, {2, Fixed Deposit, 2.7758071}, {1, Personal Loan, 2.7740972}, {5, Car Loan, 2.7090836}, {4, Mutual Fund - High Risk, 2.6285305}, {6, Mutual Fund - Low Risk, 2.4445717}, {0, Cashback Credit Card, 2.4425418}, {9, Travel Rewards Credit Card, 2.4385457}, {8, Gold Investment Plan, 2.4180088}, {7, Home Loan, 2.3963165}]|\n",
            "|37  |[{1, Personal Loan, 3.6118653}, {4, Mutual Fund - High Risk, 3.2486641}, {0, Cashback Credit Card, 2.764586}, {2, Fixed Deposit, 2.4385169}, {8, Gold Investment Plan, 2.433648}, {3, Student Credit Card, 2.3966222}, {9, Travel Rewards Credit Card, 2.3930385}, {6, Mutual Fund - Low Risk, 2.1693814}, {7, Home Loan, 2.0894706}, {5, Car Loan, 2.0626757}]  |\n",
            "+----+-----------------------------------------------------------------------------------------------------------------------------------------------------------------------------------------------------------------------------------------------------------------------------------------------------------------------------------------------------------------+\n",
            "only showing top 20 rows\n",
            "\n"
          ]
        }
      ]
    },
    {
      "cell_type": "markdown",
      "source": [
        "We have mapped ProductID to ProductName for a human-readable output.\n",
        "\n"
      ],
      "metadata": {
        "id": "HV4JQO-7-Emu"
      }
    },
    {
      "cell_type": "markdown",
      "source": [
        "### Top 5 Users for Each Product\n"
      ],
      "metadata": {
        "id": "8kLacrY77-8_"
      }
    },
    {
      "cell_type": "code",
      "source": [
        "product_recommendations = model.recommendForAllItems(5)\n",
        "product_recommendations.show(10, False)\n"
      ],
      "metadata": {
        "id": "IzH9kBQtxhZ2",
        "colab": {
          "base_uri": "https://localhost:8080/"
        },
        "outputId": "7c0253af-13b6-44df-bb95-da833a94efb8"
      },
      "execution_count": 178,
      "outputs": [
        {
          "output_type": "stream",
          "name": "stdout",
          "text": [
            "+---------+---------------------------------------------------------------------------------------------------+\n",
            "|ProductID|recommendations                                                                                    |\n",
            "+---------+---------------------------------------------------------------------------------------------------+\n",
            "|0        |[{65982, 3.916214}, {3934, 3.915826}, {4402, 3.915791}, {84901, 3.912567}, {41938, 3.912567}]      |\n",
            "|1        |[{72185, 3.9142575}, {10979, 3.9132512}, {55158, 3.91323}, {17497, 3.9127843}, {89919, 3.9115093}] |\n",
            "|2        |[{29523, 3.9154508}, {15470, 3.914567}, {19717, 3.9143453}, {67993, 3.9120016}, {36292, 3.9120016}]|\n",
            "|3        |[{79615, 4.071695}, {17264, 4.0298924}, {33795, 4.0043335}, {42507, 3.9392273}, {67006, 3.9323971}]|\n",
            "|4        |[{83308, 3.9187617}, {15751, 3.9187138}, {39343, 3.9176872}, {40508, 3.917548}, {25094, 3.9170995}]|\n",
            "|5        |[{10334, 3.9167595}, {23526, 3.9164963}, {61324, 3.915008}, {95362, 3.9128952}, {91467, 3.9128952}]|\n",
            "|6        |[{95428, 4.0830097}, {69750, 3.9301703}, {53182, 3.9256268}, {74141, 3.9218795}, {3697, 3.9175308}]|\n",
            "|7        |[{82338, 3.9140117}, {52723, 3.9140117}, {84413, 3.9138904}, {19373, 3.9123309}, {85203, 3.911484}]|\n",
            "|8        |[{6449, 4.1699624}, {53182, 4.156084}, {54370, 3.9153337}, {33569, 3.9153337}, {62198, 3.91517}]   |\n",
            "|9        |[{90637, 3.918431}, {1732, 3.917372}, {74363, 3.9169276}, {43570, 3.9159968}, {86802, 3.9132245}]  |\n",
            "+---------+---------------------------------------------------------------------------------------------------+\n",
            "\n"
          ]
        }
      ]
    },
    {
      "cell_type": "markdown",
      "source": [
        "Now, let's generate personalized recommendations for users in the test set and save them to a CSV file.\n"
      ],
      "metadata": {
        "id": "WhCIbtsv-x8h"
      }
    },
    {
      "cell_type": "markdown",
      "source": [
        "### Generate Top-3 Recommendations per User\n",
        "We will use the trained ALS model to recommend 3 products for each user.\n"
      ],
      "metadata": {
        "id": "gaQQQaWx_CnH"
      }
    },
    {
      "cell_type": "code",
      "source": [
        "# Generate top-3 recommendations for all users\n",
        "top3_recommendations = model.recommendForAllUsers(3)\n",
        "\n",
        "# Show sample recommendations\n",
        "top3_recommendations.show(5, truncate=False)\n"
      ],
      "metadata": {
        "colab": {
          "base_uri": "https://localhost:8080/"
        },
        "id": "1GfWgrfP_EnO",
        "outputId": "7659d640-a1cd-4ceb-c21b-881d4ff46da8"
      },
      "execution_count": 179,
      "outputs": [
        {
          "output_type": "stream",
          "name": "stdout",
          "text": [
            "+----+------------------------------------------------+\n",
            "|User|recommendations                                 |\n",
            "+----+------------------------------------------------+\n",
            "|1   |[{5, 3.6026585}, {2, 3.534845}, {4, 3.1545637}] |\n",
            "|3   |[{2, 3.5065827}, {0, 3.4846337}, {4, 2.5104308}]|\n",
            "|5   |[{0, 3.6746953}, {5, 3.6646342}, {7, 3.6560168}]|\n",
            "|6   |[{4, 2.5144544}, {1, 2.5068002}, {0, 2.33836}]  |\n",
            "|9   |[{1, 3.4140074}, {9, 2.410631}, {2, 2.034611}]  |\n",
            "+----+------------------------------------------------+\n",
            "only showing top 5 rows\n",
            "\n"
          ]
        }
      ]
    },
    {
      "cell_type": "markdown",
      "source": [
        "#### Convert ProductID to ProductName (For Readability)\n",
        "We need to map ProductID to ProductName for a user-friendly format.\n",
        "\n"
      ],
      "metadata": {
        "id": "LIkAY03H_OTD"
      }
    },
    {
      "cell_type": "code",
      "source": [
        "# Apply mapping transformation\n",
        "readable_recommendations3 = top3_recommendations.withColumn(\"recommendations\", map_product_udf(\"recommendations\"))\n",
        "\n",
        "# Show final recommendations with Product Names\n",
        "readable_recommendations3.show(truncate=False)\n"
      ],
      "metadata": {
        "colab": {
          "base_uri": "https://localhost:8080/"
        },
        "id": "2flrcxodPWNd",
        "outputId": "39ab3590-ddce-4dfc-b5a7-5e667e57385b"
      },
      "execution_count": 180,
      "outputs": [
        {
          "output_type": "stream",
          "name": "stdout",
          "text": [
            "+----+--------------------------------------------------------------------------------------------------------------------------+\n",
            "|User|recommendations                                                                                                           |\n",
            "+----+--------------------------------------------------------------------------------------------------------------------------+\n",
            "|1   |[{5, Car Loan, 3.6026585}, {2, Fixed Deposit, 3.534845}, {4, Mutual Fund - High Risk, 3.1545637}]                         |\n",
            "|3   |[{2, Fixed Deposit, 3.5065827}, {0, Cashback Credit Card, 3.4846337}, {4, Mutual Fund - High Risk, 2.5104308}]            |\n",
            "|5   |[{0, Cashback Credit Card, 3.6746953}, {5, Car Loan, 3.6646342}, {7, Home Loan, 3.6560168}]                               |\n",
            "|6   |[{4, Mutual Fund - High Risk, 2.5144544}, {1, Personal Loan, 2.5068002}, {0, Cashback Credit Card, 2.33836}]              |\n",
            "|9   |[{1, Personal Loan, 3.4140074}, {9, Travel Rewards Credit Card, 2.410631}, {2, Fixed Deposit, 2.034611}]                  |\n",
            "|12  |[{7, Home Loan, 3.424007}, {2, Fixed Deposit, 3.318161}, {1, Personal Loan, 3.189293}]                                    |\n",
            "|13  |[{0, Cashback Credit Card, 3.4100728}, {6, Mutual Fund - Low Risk, 2.8326426}, {5, Car Loan, 2.6797106}]                  |\n",
            "|15  |[{0, Cashback Credit Card, 3.4290316}, {8, Gold Investment Plan, 2.4315295}, {9, Travel Rewards Credit Card, 2.4245853}]  |\n",
            "|16  |[{1, Personal Loan, 2.2712703}, {6, Mutual Fund - Low Risk, 2.1951022}, {0, Cashback Credit Card, 1.8440701}]             |\n",
            "|17  |[{0, Cashback Credit Card, 1.8498647}, {3, Student Credit Card, 1.477502}, {7, Home Loan, 1.475252}]                      |\n",
            "|19  |[{4, Mutual Fund - High Risk, 3.869127}, {7, Home Loan, 3.760003}, {1, Personal Loan, 3.754542}]                          |\n",
            "|20  |[{2, Fixed Deposit, 3.5961854}, {7, Home Loan, 3.5547307}, {8, Gold Investment Plan, 3.5502074}]                          |\n",
            "|22  |[{4, Mutual Fund - High Risk, 3.0607018}, {0, Cashback Credit Card, 2.7290714}, {3, Student Credit Card, 2.6518092}]      |\n",
            "|26  |[{6, Mutual Fund - Low Risk, 3.2738545}, {0, Cashback Credit Card, 3.2698903}, {9, Travel Rewards Credit Card, 2.9093382}]|\n",
            "|27  |[{2, Fixed Deposit, 3.1202765}, {0, Cashback Credit Card, 2.6467538}, {5, Car Loan, 2.3829343}]                           |\n",
            "|28  |[{4, Mutual Fund - High Risk, 3.5347376}, {6, Mutual Fund - Low Risk, 2.700737}, {3, Student Credit Card, 2.5772645}]     |\n",
            "|31  |[{6, Mutual Fund - Low Risk, 2.6301706}, {5, Car Loan, 2.3852036}, {2, Fixed Deposit, 2.3696473}]                         |\n",
            "|34  |[{2, Fixed Deposit, 3.3357058}, {8, Gold Investment Plan, 3.316815}, {0, Cashback Credit Card, 2.1659405}]                |\n",
            "|35  |[{3, Student Credit Card, 2.8657398}, {2, Fixed Deposit, 2.7758071}, {1, Personal Loan, 2.7740972}]                       |\n",
            "|37  |[{1, Personal Loan, 3.6118653}, {4, Mutual Fund - High Risk, 3.2486641}, {0, Cashback Credit Card, 2.764586}]             |\n",
            "+----+--------------------------------------------------------------------------------------------------------------------------+\n",
            "only showing top 20 rows\n",
            "\n"
          ]
        }
      ]
    },
    {
      "cell_type": "markdown",
      "source": [
        "#### Convert to DataFrame\n"
      ],
      "metadata": {
        "id": "0FAfSgN9_WG8"
      }
    },
    {
      "cell_type": "code",
      "source": [
        "# If product_mapping is a dictionary, convert it to a PySpark DataFrame\n",
        "if isinstance(product_mapping, dict):\n",
        "    product_mapping_df = spark.createDataFrame(\n",
        "        [Row(ProductID=k, ProductName=v) for k, v in product_mapping.items()]\n",
        "    )\n",
        "else:\n",
        "    product_mapping_df = product_mapping  # It's already a DataFrame\n",
        "\n",
        "# Flatten the recommendations (Extract ProductID and rating instead of Score)\n",
        "flattened_recommendations = user_recommendations \\\n",
        "    .withColumn(\"recommendations\", explode(\"recommendations\")) \\\n",
        "    .select(\n",
        "        col(\"User\"),\n",
        "        col(\"recommendations.ProductID\").alias(\"ProductID\"),\n",
        "        col(\"recommendations.rating\").alias(\"Rating\")  # Fix: Use \"rating\" instead of \"Score\"\n",
        "    )\n",
        "\n",
        "# Join with product mapping to get ProductName\n",
        "final_user_recommendations = flattened_recommendations.join(product_mapping_df, \"ProductID\", \"left\")\n"
      ],
      "metadata": {
        "id": "3hroe45MPYSv"
      },
      "execution_count": 181,
      "outputs": []
    },
    {
      "cell_type": "code",
      "source": [
        "output_path = \"/content/drive/MyDrive/Module 5/BIGData/user_recommendations\"\n",
        "final_csv_path = \"/content/drive/MyDrive/Module 5/BIGData/user_recommendations.csv\"\n",
        "\n",
        "# Save DataFrame as a single CSV file in a temporary directory\n",
        "final_user_recommendations.coalesce(1).write.csv(output_path, header=True, mode=\"overwrite\")\n",
        "\n",
        "# Find the actual CSV file inside the output folder\n",
        "csv_file = [f for f in os.listdir(output_path) if f.endswith(\".csv\")][0]\n",
        "\n",
        "# Move and rename it to the final path\n",
        "shutil.move(os.path.join(output_path, csv_file), final_csv_path)\n",
        "\n",
        "# Delete the temporary folder\n",
        "shutil.rmtree(output_path)\n",
        "\n",
        "print(f\"CSV file saved successfully as: {final_csv_path}\")\n"
      ],
      "metadata": {
        "colab": {
          "base_uri": "https://localhost:8080/"
        },
        "id": "lBfHeug0TCVc",
        "outputId": "cfe5719a-420d-4c4f-b73e-7879cb199796"
      },
      "execution_count": 182,
      "outputs": [
        {
          "output_type": "stream",
          "name": "stdout",
          "text": [
            "CSV file saved successfully as: /content/drive/MyDrive/Module 5/BIGData/user_recommendations.csv\n"
          ]
        }
      ]
    },
    {
      "cell_type": "markdown",
      "source": [
        "[LINK TO THE TOP 3 PRODUCTS RECOMMENDED PER  USER DATASET](https://drive.google.com/file/d/1-rm8IEE9x1YXn1ZRs5e_KbK5njWZKZiV/view?usp=sharing)"
      ],
      "metadata": {
        "id": "ZdnwMWADXCpf"
      }
    },
    {
      "cell_type": "code",
      "source": [],
      "metadata": {
        "id": "e9Vw_M1FXXgk"
      },
      "execution_count": 182,
      "outputs": []
    }
  ]
}