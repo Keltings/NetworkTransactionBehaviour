{
 "cells": [
  {
   "cell_type": "code",
   "execution_count": 27,
   "id": "7385129a",
   "metadata": {},
   "outputs": [],
   "source": [
    "import pandas as pd\n",
    "import networkx as nx\n",
    "from pyvis.network import Network\n"
   ]
  },
  {
   "cell_type": "code",
   "execution_count": 28,
   "id": "2da5ded8",
   "metadata": {},
   "outputs": [],
   "source": [
    "df=pd.read_csv('fraud_dataset.csv')"
   ]
  },
  {
   "cell_type": "code",
   "execution_count": 29,
   "id": "e70025d7",
   "metadata": {},
   "outputs": [
    {
     "data": {
      "text/html": [
       "<div>\n",
       "<style scoped>\n",
       "    .dataframe tbody tr th:only-of-type {\n",
       "        vertical-align: middle;\n",
       "    }\n",
       "\n",
       "    .dataframe tbody tr th {\n",
       "        vertical-align: top;\n",
       "    }\n",
       "\n",
       "    .dataframe thead th {\n",
       "        text-align: right;\n",
       "    }\n",
       "</style>\n",
       "<table border=\"1\" class=\"dataframe\">\n",
       "  <thead>\n",
       "    <tr style=\"text-align: right;\">\n",
       "      <th></th>\n",
       "      <th>sender</th>\n",
       "      <th>receiver</th>\n",
       "      <th>amount</th>\n",
       "      <th>timestamp</th>\n",
       "      <th>transaction_type</th>\n",
       "      <th>location</th>\n",
       "      <th>device_type</th>\n",
       "      <th>is_foreign_transaction</th>\n",
       "      <th>time_of_day</th>\n",
       "      <th>risk_score</th>\n",
       "    </tr>\n",
       "  </thead>\n",
       "  <tbody>\n",
       "    <tr>\n",
       "      <th>0</th>\n",
       "      <td>U623</td>\n",
       "      <td>U59</td>\n",
       "      <td>3610.17</td>\n",
       "      <td>2025-01-01</td>\n",
       "      <td>wire_transfer</td>\n",
       "      <td>US</td>\n",
       "      <td>ATM</td>\n",
       "      <td>0</td>\n",
       "      <td>5</td>\n",
       "      <td>0</td>\n",
       "    </tr>\n",
       "    <tr>\n",
       "      <th>1</th>\n",
       "      <td>U2111</td>\n",
       "      <td>U902</td>\n",
       "      <td>2617.73</td>\n",
       "      <td>2025-01-01</td>\n",
       "      <td>wire_transfer</td>\n",
       "      <td>UK</td>\n",
       "      <td>mobile</td>\n",
       "      <td>0</td>\n",
       "      <td>6</td>\n",
       "      <td>0</td>\n",
       "    </tr>\n",
       "    <tr>\n",
       "      <th>2</th>\n",
       "      <td>U2503</td>\n",
       "      <td>U1892</td>\n",
       "      <td>2766.80</td>\n",
       "      <td>2025-01-01</td>\n",
       "      <td>cash_deposit</td>\n",
       "      <td>Dubai</td>\n",
       "      <td>mobile</td>\n",
       "      <td>1</td>\n",
       "      <td>13</td>\n",
       "      <td>0</td>\n",
       "    </tr>\n",
       "    <tr>\n",
       "      <th>3</th>\n",
       "      <td>U2872</td>\n",
       "      <td>U1182</td>\n",
       "      <td>436.66</td>\n",
       "      <td>2025-01-01</td>\n",
       "      <td>online_payment</td>\n",
       "      <td>India</td>\n",
       "      <td>desktop</td>\n",
       "      <td>0</td>\n",
       "      <td>7</td>\n",
       "      <td>0</td>\n",
       "    </tr>\n",
       "    <tr>\n",
       "      <th>4</th>\n",
       "      <td>U2859</td>\n",
       "      <td>U175</td>\n",
       "      <td>1263.44</td>\n",
       "      <td>2025-01-01</td>\n",
       "      <td>online_payment</td>\n",
       "      <td>Germany</td>\n",
       "      <td>mobile</td>\n",
       "      <td>1</td>\n",
       "      <td>3</td>\n",
       "      <td>0</td>\n",
       "    </tr>\n",
       "  </tbody>\n",
       "</table>\n",
       "</div>"
      ],
      "text/plain": [
       "  sender receiver   amount   timestamp transaction_type location device_type  \\\n",
       "0   U623      U59  3610.17  2025-01-01    wire_transfer       US         ATM   \n",
       "1  U2111     U902  2617.73  2025-01-01    wire_transfer       UK      mobile   \n",
       "2  U2503    U1892  2766.80  2025-01-01     cash_deposit    Dubai      mobile   \n",
       "3  U2872    U1182   436.66  2025-01-01   online_payment    India     desktop   \n",
       "4  U2859     U175  1263.44  2025-01-01   online_payment  Germany      mobile   \n",
       "\n",
       "   is_foreign_transaction  time_of_day  risk_score  \n",
       "0                       0            5           0  \n",
       "1                       0            6           0  \n",
       "2                       1           13           0  \n",
       "3                       0            7           0  \n",
       "4                       1            3           0  "
      ]
     },
     "execution_count": 29,
     "metadata": {},
     "output_type": "execute_result"
    }
   ],
   "source": [
    "df.head()"
   ]
  },
  {
   "cell_type": "code",
   "execution_count": 62,
   "id": "63fe9601",
   "metadata": {},
   "outputs": [],
   "source": [
    "# Build Graph\n",
    "G = nx.DiGraph()\n",
    "valid_nodes = set(df[\"sender\"].dropna()).union(set(df[\"receiver\"].dropna()))  # Ensure only existing nodes are used\n",
    "for _, row in df.iterrows():\n",
    "    sender, receiver = row[\"sender\"], row[\"receiver\"]\n",
    "    if pd.notna(sender) and pd.notna(receiver) and sender in valid_nodes and receiver in valid_nodes:\n",
    "        G.add_edge(sender, receiver, weight=row[\"amount\"])\n"
   ]
  },
  {
   "cell_type": "code",
   "execution_count": 63,
   "id": "536fb30c",
   "metadata": {},
   "outputs": [],
   "source": [
    "# Compute centrality measures\n",
    "degree_centrality = nx.degree_centrality(G)\n",
    "betweenness_centrality = nx.betweenness_centrality(G)\n",
    "eigenvector_centrality = nx.eigenvector_centrality(G, max_iter=1000, tol=1e-6)\n",
    "pagerank = nx.pagerank(G)"
   ]
  },
  {
   "cell_type": "code",
   "execution_count": 64,
   "id": "47832f9c",
   "metadata": {},
   "outputs": [],
   "source": [
    "# Function to add nodes based on centrality rankings\n",
    "def add_node_safe(net, node, color, title):\n",
    "    if node in G.nodes():\n",
    "        net.add_node(node, color=color, title=title)\n",
    "\n",
    "# Function to safely add edges to Pyvis\n",
    "def add_edge_safe(net, sender, receiver, title, width):\n",
    "    if sender in G.nodes() and receiver in G.nodes():\n",
    "        net.add_edge(sender, receiver, title=title, width=width)"
   ]
  },
  {
   "cell_type": "markdown",
   "id": "16c8092d",
   "metadata": {},
   "source": [
    "---"
   ]
  },
  {
   "cell_type": "markdown",
   "id": "1e6ed458",
   "metadata": {},
   "source": [
    "### Scenario 1: Ponzi Scheme Detection (High Eigenvector Centrality) \n",
    "\n",
    "https://iclg.com/news/21624-south-african-ponzi-scammers-disbarred-for-30-years\n",
    "- Eigenvector centrality measures how important a node is within a network, not just based on the number of connections (like degree centrality) but also based on the importance of the nodes it connects to.\n",
    "\n",
    "##### How it Works\n",
    "- Each node starts with an equal score.\n",
    "- A node’s centrality score is higher if it is connected to high-scoring nodes.\n",
    "- The calculation iterates multiple times, adjusting scores based on connections.\n",
    "- Converges when scores stabilize, indicating the true importance of each node.\n",
    "\n",
    "Why is Eigenvector Centrality Useful in Fraud Detection?\n",
    "### - 📌 Ponzi Schemes:\n",
    "\n",
    "The main orchestrators will have high eigenvector centrality because they are connected to many influential participants.\n",
    "Investors at the bottom of the chain will have lower centrality scores, as they are only connected to one or two higher-level nodes.\n",
    "\n",
    "### -📌 Money Laundering Networks:\n",
    "\n",
    "Layered transactions (placement, layering, integration) create hidden networks.\n",
    "Criminals will not always have high degree centrality, but they will be linked to highly influential intermediaries (money mules, shell companies).\n",
    "### - 📌 Corporate Fraud & Embezzlement:\n",
    "\n",
    "Key insiders who redistribute stolen funds to multiple accounts will have high eigenvector centrality.\n",
    "Accounts receiving large amounts of money from high-centrality nodes should be flagged for investigation."
   ]
  },
  {
   "cell_type": "code",
   "execution_count": 66,
   "id": "d108e578",
   "metadata": {},
   "outputs": [
    {
     "name": "stdout",
     "output_type": "stream",
     "text": [
      "Warning: When  cdn_resources is 'local' jupyter notebook has issues displaying graphics on chrome/safari. Use cdn_resources='in_line' or cdn_resources='remote' if you have issues viewing graphics in a notebook.\n",
      "ponzi_scheme.html\n"
     ]
    },
    {
     "data": {
      "text/html": [
       "\n",
       "        <iframe\n",
       "            width=\"100%\"\n",
       "            height=\"600px\"\n",
       "            src=\"ponzi_scheme.html\"\n",
       "            frameborder=\"0\"\n",
       "            allowfullscreen\n",
       "            \n",
       "        ></iframe>\n",
       "        "
      ],
      "text/plain": [
       "<IPython.lib.display.IFrame at 0x2629f3a3e50>"
      ]
     },
     "execution_count": 66,
     "metadata": {},
     "output_type": "execute_result"
    }
   ],
   "source": [
    "\n",
    "ponzi_accounts = sorted(eigenvector_centrality, key=eigenvector_centrality.get, reverse=True)[:50]\n",
    "\n",
    "G_ponzi = nx.DiGraph()\n",
    "net = Network(notebook=True, directed=True)\n",
    "\n",
    "for sender in ponzi_accounts:\n",
    "    for receiver in G.successors(sender):\n",
    "        G_ponzi.add_edge(sender, receiver, weight=G[sender][receiver]['weight'])\n",
    "        add_node_safe(net, sender, 'red', \"Ponzi Scheme Participant\")\n",
    "        add_node_safe(net, receiver, 'red', \"Ponzi Scheme Participant\")\n",
    "        add_edge_safe(net, sender, receiver, f\"${G[sender][receiver]['weight']}\", width=G[sender][receiver]['weight']/10000)\n",
    "\n",
    "# Show Pyvis visualization\n",
    "net.show(\"ponzi_scheme.html\")"
   ]
  },
  {
   "cell_type": "markdown",
   "id": "2b9837da",
   "metadata": {},
   "source": [
    "## Analysis\n",
    "\n",
    "#### Code\n",
    "- Identifies the most influential nodes using Eigenvector Centrality (accounts that receive money and redistribute it frequently).\n",
    "- Filters the top 50 accounts with the highest Eigenvector centrality, indicating that they play a crucial role in the Ponzi scheme.\n",
    "- Builds a directed network graph where transactions loop back into the same ecosystem.\n",
    "\n",
    "#### Conclusion\n",
    "- The graph structure is highly interconnected, forming circular loops.\n",
    "- A few central nodes (high Eigenvector Centrality scores) act as intermediaries for multiple transactions.\n",
    "- Edges often point back to previous senders, indicating recycling of funds within the network.\n",
    "#### Interpretation\n",
    "- Ponzi schemes operate by redistributing funds rather than generating new wealth.\n",
    "- A central figure (or a few key accounts) dominate the network, constantly redistributing incoming transactions.\n",
    "- Clusters of interconnected nodes indicate different investor groups who unknowingly keep reinvesting in the fraudulent system."
   ]
  },
  {
   "cell_type": "markdown",
   "id": "c2567d21",
   "metadata": {},
   "source": [
    "---"
   ]
  },
  {
   "cell_type": "markdown",
   "id": "30c4b6eb",
   "metadata": {},
   "source": [
    "### Scenario 2: Corporate Tax Evasion (High Betweenness Centrality) \n",
    "https://www.icij.org/investigations/mauritius-leaks/kenyan-firm-fined-for-elaborate-tax-evasion-scheme-routed-through-mauritius/\n",
    "\n",
    "- Betweenness Centrality is a measure of how often a node (account) acts as a bridge in the shortest path between two other nodes in a network. It helps identify key intermediaries that control the flow of transactions.Betweenness centrality isn’t about who transacts the most—it’s about who controls the flow of transactions.\n",
    "\n",
    "\n",
    "##### Why is Betweenness Centrality Important for Fraud Detection?\n",
    "Identifies Key Intermediaries:\n",
    "\n",
    "- If a fraudster is laundering money by moving it between multiple accounts, they act as a bridge in transactions.\n",
    "High betweenness nodes may be offshore tax havens, financial mules, or money laundering hubs.\n",
    "Detects Hidden Controllers:\n",
    "\n",
    "- Some fraudsters may not be directly connected to too many accounts, but they control fund movement between groups.\n",
    "These accounts don’t send or receive the most money, but they control how money flows.\n",
    "Reveals Structural Weaknesses in a Network:\n",
    "\n",
    "- If an account with high betweenness is removed, the network might break into disconnected components.\n",
    "This suggests that the account plays a critical role in the fraud scheme.\n",
    "\n",
    "\n",
    "##### How to Use Betweenness Centrality in Investigations\n",
    "-  Sort accounts by betweenness score → Focus on intermediaries in fund transfers.\n",
    "-  If an account has high betweenness but low transaction volume, it may be involved in hidden fraud.\n",
    "-  If many fraud-related transactions pass through a single node, flag it for deeper scrutiny."
   ]
  },
  {
   "cell_type": "code",
   "execution_count": 67,
   "id": "c9a946cf",
   "metadata": {},
   "outputs": [
    {
     "name": "stdout",
     "output_type": "stream",
     "text": [
      "Warning: When  cdn_resources is 'local' jupyter notebook has issues displaying graphics on chrome/safari. Use cdn_resources='in_line' or cdn_resources='remote' if you have issues viewing graphics in a notebook.\n",
      "corporate_tax_evasion.html\n"
     ]
    },
    {
     "data": {
      "text/html": [
       "\n",
       "        <iframe\n",
       "            width=\"100%\"\n",
       "            height=\"600px\"\n",
       "            src=\"corporate_tax_evasion.html\"\n",
       "            frameborder=\"0\"\n",
       "            allowfullscreen\n",
       "            \n",
       "        ></iframe>\n",
       "        "
      ],
      "text/plain": [
       "<IPython.lib.display.IFrame at 0x2629c11caf0>"
      ]
     },
     "execution_count": 67,
     "metadata": {},
     "output_type": "execute_result"
    }
   ],
   "source": [
    "\n",
    "offshore_accounts = sorted(betweenness_centrality, key=betweenness_centrality.get, reverse=True)[:50]\n",
    "G_tax_evasion = nx.DiGraph()\n",
    "net = Network(notebook=True, directed=True)\n",
    "for sender in offshore_accounts:\n",
    "    for receiver in G.successors(sender):\n",
    "        G_tax_evasion.add_edge(sender, receiver, weight=G[sender][receiver]['weight'])\n",
    "        add_node_safe(net, sender, 'blue', \"Offshore Fund Sender\")\n",
    "        add_node_safe(net, receiver, 'blue', \"Offshore Recipient\")\n",
    "        add_edge_safe(net, sender, receiver, f\"${G[sender][receiver]['weight']}\", width=G[sender][receiver]['weight']/10000)\n",
    "\n",
    "net.show(\"corporate_tax_evasion.html\")\n"
   ]
  },
  {
   "cell_type": "markdown",
   "id": "e8ca4556",
   "metadata": {},
   "source": [
    "#### Code\n",
    "- Identifies nodes that control transaction pathways using Betweenness Centrality.\n",
    "- Filters the top 50 accounts that act as financial bottlenecks, controlling the flow of money between legal and offshore accounts.\n",
    "- Constructs a fraud network where offshore accounts receive money from multiple senders.\n",
    "\n",
    "#### Visual Output Observations\n",
    "- Many senders linking to a few offshore recipients.\n",
    "- The offshore recipients have extremely high in-degree values, meaning they collect money from various senders.\n",
    "- Edges are mostly unidirectional, showing that money flows out but rarely comes back.\n",
    "\n",
    "#### Interpretation\n",
    "- Tax evasion schemes involve moving funds offshore to avoid detection.\n",
    "- The high Betweenness nodes act as intermediaries that control fund movement.\n",
    "- The lack of return transactions suggests that these funds are being stored in offshore entities rather than reinvested."
   ]
  },
  {
   "cell_type": "markdown",
   "id": "1cdbe420",
   "metadata": {},
   "source": [
    "---"
   ]
  },
  {
   "cell_type": "markdown",
   "id": "2541a7ec",
   "metadata": {},
   "source": [
    "### Scenario 3: High-Value Money Transfers (Top Degree Centrality)\n",
    "https://www.trmlabs.com/post/south-africa-brazil-u-s-and-others-take-action-involving-billion-dollar-bitcoin-ponzi-scheme\n",
    "- Degree centrality measures how many direct connections (edges) a node has in a network. In financial fraud detection, it helps identify accounts that are highly active in transactions.\n",
    "\n",
    "\n",
    "##### How It Relates to Fraud?\n",
    "- High-degree centrality nodes are accounts that send or receive money frequently.\n",
    "- These accounts act as hubs in the financial network, processing a large number of transactions.\n",
    "- Top Degree Centrality means selecting the most active nodes based on their total number of connections.\n",
    "#### Why Is This Important?\n",
    "- Legitimate businesses (banks, merchants) may have high-degree centrality for valid reasons.\n",
    "- However, fraudsters also create high-traffic accounts to disguise illegal transactions.\n",
    "- In high-value transaction fraud, few accounts dominate the flow of large amounts of money, which is a red flag for financial crime."
   ]
  },
  {
   "cell_type": "code",
   "execution_count": 70,
   "id": "163fdcf3",
   "metadata": {},
   "outputs": [
    {
     "name": "stdout",
     "output_type": "stream",
     "text": [
      "Warning: When  cdn_resources is 'local' jupyter notebook has issues displaying graphics on chrome/safari. Use cdn_resources='in_line' or cdn_resources='remote' if you have issues viewing graphics in a notebook.\n",
      "high_value_transfers.html\n"
     ]
    },
    {
     "data": {
      "text/html": [
       "\n",
       "        <iframe\n",
       "            width=\"100%\"\n",
       "            height=\"600px\"\n",
       "            src=\"high_value_transfers.html\"\n",
       "            frameborder=\"0\"\n",
       "            allowfullscreen\n",
       "            \n",
       "        ></iframe>\n",
       "        "
      ],
      "text/plain": [
       "<IPython.lib.display.IFrame at 0x2629b3493c0>"
      ]
     },
     "execution_count": 70,
     "metadata": {},
     "output_type": "execute_result"
    }
   ],
   "source": [
    "\n",
    "major_transactors = sorted(degree_centrality, key=degree_centrality.get, reverse=True)[:50]\n",
    "G_high_value = nx.DiGraph()\n",
    "net = Network(notebook=True, directed=True)\n",
    "for sender in major_transactors:\n",
    "    for receiver in G.successors(sender):\n",
    "        G_high_value.add_edge(sender, receiver, weight=G[sender][receiver]['weight'])\n",
    "        add_node_safe(net, sender, 'brown', \"High-Value Transaction Sender\")\n",
    "        add_node_safe(net, receiver, 'brown', \"High-Value Transaction Receiver\")\n",
    "        add_edge_safe(net, sender, receiver, f\"${G[sender][receiver]['weight']}\", width=G[sender][receiver]['weight']/10000)\n",
    "\n",
    "net.show(\"high_value_transfers.html\")"
   ]
  },
  {
   "cell_type": "markdown",
   "id": "9d8232aa",
   "metadata": {},
   "source": [
    "#### Code\n",
    "- Identifies accounts with the highest number of transactions using Degree Centrality.\n",
    "- Extracts the top 50 accounts that are most active in sending or receiving money.\n",
    "- Constructs a fraud network where a small number of entities handle large-value transactions.\n",
    "\n",
    "##### Visual Output Observations\n",
    "- The network graph is dominated by a few large nodes.\n",
    "- The edges have extremely high weights, meaning these transactions involve large sums of money.\n",
    "- The network has fewer connections, but the nodes involved control massive amounts of funds.\n",
    "\n",
    "##### Interpretation\n",
    "- This pattern is consistent with high-value fraud, embezzlement, or insider trading.\n",
    "- The high-degree centrality nodes indicate accounts that act as key fund managers.\n",
    "-Few but extremely high-value transactions suggest concentrated financial risk, possibly due to fraud."
   ]
  },
  {
   "cell_type": "markdown",
   "id": "a91db8b7",
   "metadata": {},
   "source": [
    "---"
   ]
  },
  {
   "cell_type": "markdown",
   "id": "8444fe90",
   "metadata": {},
   "source": [
    "### Scenario 4: Rapid Transactions (Top PageRank Scores)\n",
    "\n",
    "https://apnews.com/article/interpol-cybercrime-africa-afripol-fraud-serengeti-trafficking-208111329edd3a1a64faf85cc7c0d2c0\n",
    "\n",
    "- PageRank is a graph centrality measure that ranks nodes based on how important they are in a network. It was originally developed by Google to rank web pages but is also useful in fraud detection.\n",
    "\n",
    "#### How PageRank Works in a Financial Transaction Network\n",
    "- A node (account) gets a higher PageRank if it receives transactions from other high-ranking nodes.\n",
    "- Unlike Degree Centrality (which simply counts transactions), PageRank measures influence—some accounts may not send/receive a huge number of transactions but still be crucial due to who they interact with.\n",
    "- In fraud detection, Top PageRank identifies accounts that are \"highly trusted\" in the network, meaning they are central to fund flows.\n",
    "#### Why Top PageRank is Useful for Detecting Fraud\n",
    "- Detects Money Laundering Hubs\n",
    "- Accounts with high PageRank are used frequently as intermediaries.\n",
    "- Criminals pass money through \"trusted\" accounts to clean illicit funds.\n",
    "- Identifies Transaction Loops\n",
    "\n",
    "If an account receives money and sends it back out in a suspicious way, it may have a high PageRank but relatively low transactions.\n",
    "\n",
    "\n",
    "\n",
    "##### Example: How PageRank Uncovers Fraud\n",
    "Suppose a fraudster runs a fake e-commerce store and repeatedly receives payments from multiple stolen credit cards.\n",
    "Even if the fraudster’s store only has 10 transactions, if all senders have high PageRank scores (e.g., stolen bank accounts), then the fraudster inherits a high PageRank score too.\n",
    "This helps identify central fraud actors even if they are not the most active nodes by raw transactions."
   ]
  },
  {
   "cell_type": "code",
   "execution_count": 72,
   "id": "d60802db",
   "metadata": {},
   "outputs": [
    {
     "name": "stdout",
     "output_type": "stream",
     "text": [
      "Warning: When  cdn_resources is 'local' jupyter notebook has issues displaying graphics on chrome/safari. Use cdn_resources='in_line' or cdn_resources='remote' if you have issues viewing graphics in a notebook.\n",
      "rapid_transactions.html\n"
     ]
    },
    {
     "data": {
      "text/html": [
       "\n",
       "        <iframe\n",
       "            width=\"100%\"\n",
       "            height=\"600px\"\n",
       "            src=\"rapid_transactions.html\"\n",
       "            frameborder=\"0\"\n",
       "            allowfullscreen\n",
       "            \n",
       "        ></iframe>\n",
       "        "
      ],
      "text/plain": [
       "<IPython.lib.display.IFrame at 0x262a153aaa0>"
      ]
     },
     "execution_count": 72,
     "metadata": {},
     "output_type": "execute_result"
    }
   ],
   "source": [
    "\n",
    "rapid_transactors = sorted(pagerank, key=pagerank.get, reverse=True)[:50]\n",
    "G_rapid_transactions = nx.DiGraph()\n",
    "net = Network(notebook=True, directed=True)\n",
    "for sender in rapid_transactors:\n",
    "    for receiver in G.successors(sender):\n",
    "        G_rapid_transactions.add_edge(sender, receiver, weight=G[sender][receiver]['weight'])\n",
    "        add_node_safe(net, sender, 'purple', \"Frequent Transaction Sender\")\n",
    "        add_node_safe(net, receiver, 'purple', \"Frequent Transaction Receiver\")\n",
    "        add_edge_safe(net, sender, receiver, f\"${G[sender][receiver]['weight']}\", width=G[sender][receiver]['weight']/10000)\n",
    "\n",
    "net.show(\"rapid_transactions.html\")"
   ]
  },
  {
   "cell_type": "markdown",
   "id": "e4b48327",
   "metadata": {},
   "source": [
    "### Code\n",
    "- Identifies accounts with high influence in transaction pathways using PageRank.\n",
    "- Extracts the top 50 accounts that frequently interact within the network.\n",
    "- Constructs a fraud network where certain accounts dominate rapid transactions.\n",
    "\n",
    "#### Visual Output Observations\n",
    "- A small number of accounts appear as extreme outliers.\n",
    "- Some nodes show extremely high in-degree and out-degree, meaning they frequently send and receive money.\n",
    "- The edges are short-lived, indicating that transactions happen within a short timeframe.\n",
    "#### Interpretation\n",
    "- Rapid transactions are often a key indicator of money laundering.\n",
    "- The high PageRank nodes likely represent accounts used for transaction obfuscation.\n",
    "- Short-lived transaction flows suggest layering techniques, where criminals rapidly move money across multiple accounts to hide its origin.\n"
   ]
  },
  {
   "attachments": {
    "image.png": {
     "image/png": "[encoded data removed]"
    }
   },
   "cell_type": "markdown",
   "id": "bb3c2ba1",
   "metadata": {},
   "source": [
    "![image.png](attachment:image.png)"
   ]
  },
  {
   "cell_type": "code",
   "execution_count": null,
   "id": "686ae22f",
   "metadata": {},
   "outputs": [],
   "source": []
  }
 ],
 "metadata": {
  "kernelspec": {
   "display_name": "Python 3",
   "language": "python",
   "name": "python3"
  },
  "language_info": {
   "codemirror_mode": {
    "name": "ipython",
    "version": 3
   },
   "file_extension": ".py",
   "mimetype": "text/x-python",
   "name": "python",
   "nbconvert_exporter": "python",
   "pygments_lexer": "ipython3",
   "version": "3.11.9"
  }
 },
 "nbformat": 4,
 "nbformat_minor": 5
}
